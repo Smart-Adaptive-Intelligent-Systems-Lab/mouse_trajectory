{
 "cells": [
  {
   "cell_type": "code",
   "execution_count": 13,
   "metadata": {},
   "outputs": [],
   "source": [
    "import cv2\n",
    "import numpy as np\n",
    "import pickle\n",
    "from keras.models import Sequential\n",
    "from keras.layers import LSTM, Dense\n",
    "from keras.callbacks import ModelCheckpoint\n",
    "import csv\n",
    "import pandas as pd\n",
    "import time\n",
    "import pyautogui\n",
    "from datetime import datetime\n",
    "import win32api\n",
    "import win32con"
   ]
  },
  {
   "cell_type": "code",
   "execution_count": 10,
   "metadata": {},
   "outputs": [],
   "source": [
    "dataset=[]\n",
    "time_data=[]\n",
    "right_click_data=[]\n",
    "left_click_data=[]\n",
    "start = time.time()\n",
    "state_left = win32api.GetKeyState(0x01)  # Left button down = 0 or 1. Button up = -127 or -128\n",
    "state_right = win32api.GetKeyState(0x02)  # Right button down = 0 or 1. Button up = -127 or -128\n",
    "while (1):\n",
    "    a = win32api.GetKeyState(0x01)\n",
    "    b = win32api.GetKeyState(0x02)\n",
    "    state_left = a\n",
    "    if a < 0:\n",
    "        left_click_data.append('True')\n",
    "    else:\n",
    "        left_click_data.append('False')\n",
    "    state_right = b\n",
    "    if b < 0:\n",
    "        right_click_data.append('True')\n",
    "    else:\n",
    "        right_click_data.append('False')\n",
    "    currentMouseX, currentMouseY = pyautogui.position()\n",
    "    time_data.append(datetime.utcnow())\n",
    "    end = time.time()\n",
    "    dataset.append([currentMouseX,currentMouseY])\n",
    "    if ((end-start)>= 5):\n",
    "        break\n",
    "    time.sleep(0.01)"
   ]
  },
  {
   "cell_type": "code",
   "execution_count": 11,
   "metadata": {},
   "outputs": [],
   "source": [
    "header = ['UTC','x_coord','y_coord','right_click', 'left_click']\n",
    "with open('mouse_data.csv','w', encoding='UTF8') as f:\n",
    "    writer = csv.writer(f)\n",
    "    writer.writerow(header)\n",
    "    for i in range(len(dataset)-1):\n",
    "        writer.writerow([time_data[i],dataset[i][0],dataset[i][1],right_click_data[i],left_click_data[i]])"
   ]
  },
  {
   "cell_type": "code",
   "execution_count": 12,
   "metadata": {},
   "outputs": [
    {
     "data": {
      "text/html": [
       "<div>\n",
       "<style scoped>\n",
       "    .dataframe tbody tr th:only-of-type {\n",
       "        vertical-align: middle;\n",
       "    }\n",
       "\n",
       "    .dataframe tbody tr th {\n",
       "        vertical-align: top;\n",
       "    }\n",
       "\n",
       "    .dataframe thead th {\n",
       "        text-align: right;\n",
       "    }\n",
       "</style>\n",
       "<table border=\"1\" class=\"dataframe\">\n",
       "  <thead>\n",
       "    <tr style=\"text-align: right;\">\n",
       "      <th></th>\n",
       "      <th>UTC</th>\n",
       "      <th>x_coord</th>\n",
       "      <th>y_coord</th>\n",
       "      <th>right_click</th>\n",
       "      <th>left_click</th>\n",
       "    </tr>\n",
       "  </thead>\n",
       "  <tbody>\n",
       "    <tr>\n",
       "      <th>0</th>\n",
       "      <td>2022-08-14 23:32:32.809602</td>\n",
       "      <td>2764</td>\n",
       "      <td>-726</td>\n",
       "      <td>False</td>\n",
       "      <td>False</td>\n",
       "    </tr>\n",
       "    <tr>\n",
       "      <th>1</th>\n",
       "      <td>2022-08-14 23:32:32.825559</td>\n",
       "      <td>2764</td>\n",
       "      <td>-726</td>\n",
       "      <td>False</td>\n",
       "      <td>False</td>\n",
       "    </tr>\n",
       "    <tr>\n",
       "      <th>2</th>\n",
       "      <td>2022-08-14 23:32:32.840546</td>\n",
       "      <td>2764</td>\n",
       "      <td>-726</td>\n",
       "      <td>False</td>\n",
       "      <td>False</td>\n",
       "    </tr>\n",
       "    <tr>\n",
       "      <th>3</th>\n",
       "      <td>2022-08-14 23:32:32.856478</td>\n",
       "      <td>2764</td>\n",
       "      <td>-726</td>\n",
       "      <td>False</td>\n",
       "      <td>False</td>\n",
       "    </tr>\n",
       "    <tr>\n",
       "      <th>4</th>\n",
       "      <td>2022-08-14 23:32:32.871469</td>\n",
       "      <td>2764</td>\n",
       "      <td>-726</td>\n",
       "      <td>False</td>\n",
       "      <td>False</td>\n",
       "    </tr>\n",
       "  </tbody>\n",
       "</table>\n",
       "</div>"
      ],
      "text/plain": [
       "                          UTC  x_coord  y_coord  right_click  left_click\n",
       "0  2022-08-14 23:32:32.809602     2764     -726        False       False\n",
       "1  2022-08-14 23:32:32.825559     2764     -726        False       False\n",
       "2  2022-08-14 23:32:32.840546     2764     -726        False       False\n",
       "3  2022-08-14 23:32:32.856478     2764     -726        False       False\n",
       "4  2022-08-14 23:32:32.871469     2764     -726        False       False"
      ]
     },
     "execution_count": 12,
     "metadata": {},
     "output_type": "execute_result"
    }
   ],
   "source": [
    "df = pd.read_csv('mouse_data.csv')\n",
    "df.head()"
   ]
  },
  {
   "cell_type": "code",
   "execution_count": null,
   "metadata": {},
   "outputs": [],
   "source": []
  }
 ],
 "metadata": {
  "kernelspec": {
   "display_name": "Python 3.8.8 ('base')",
   "language": "python",
   "name": "python3"
  },
  "language_info": {
   "codemirror_mode": {
    "name": "ipython",
    "version": 3
   },
   "file_extension": ".py",
   "mimetype": "text/x-python",
   "name": "python",
   "nbconvert_exporter": "python",
   "pygments_lexer": "ipython3",
   "version": "3.8.8"
  },
  "orig_nbformat": 4,
  "vscode": {
   "interpreter": {
    "hash": "5179d32cf6ec497baf3f8a3ef987cc77c5d2dc691fdde20a56316522f61a7323"
   }
  }
 },
 "nbformat": 4,
 "nbformat_minor": 2
}
