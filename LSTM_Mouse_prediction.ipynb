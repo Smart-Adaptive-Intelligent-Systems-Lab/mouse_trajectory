{
  "cells": [
    {
      "cell_type": "markdown",
      "metadata": {
        "id": "view-in-github",
        "colab_type": "text"
      },
      "source": [
        "<a href=\"https://colab.research.google.com/github/Smart-Adaptive-Intelligent-Systems-Lab/mouse_trajectory/blob/main/LSTM_Mouse_prediction.ipynb\" target=\"_parent\"><img src=\"https://colab.research.google.com/assets/colab-badge.svg\" alt=\"Open In Colab\"/></a>"
      ]
    },
    {
      "cell_type": "markdown",
      "id": "c679da38",
      "metadata": {
        "id": "c679da38"
      },
      "source": [
        "# LSTM Prediction for the mouse movement \n",
        "The goal of the project is to predict whoever is using the computer by predicting his movement and try to fit a user, but right here I'm just trying to predict the mouse movement of a the cursor"
      ]
    },
    {
      "cell_type": "markdown",
      "id": "d8fcbd47",
      "metadata": {
        "id": "d8fcbd47"
      },
      "source": [
        "### Import\n"
      ]
    },
    {
      "cell_type": "code",
      "execution_count": null,
      "id": "83a7e89a",
      "metadata": {
        "scrolled": true,
        "id": "83a7e89a"
      },
      "outputs": [],
      "source": [
        "import cv2\n",
        "import numpy as np\n",
        "import pickle\n",
        "from keras.models import Sequential\n",
        "from keras.layers import LSTM, Dense\n",
        "from keras.callbacks import ModelCheckpoint\n",
        "import csv\n",
        "import pandas as pd\n",
        "import time"
      ]
    },
    {
      "cell_type": "markdown",
      "id": "227cadbc",
      "metadata": {
        "id": "227cadbc"
      },
      "source": [
        "### Algorithm parameters"
      ]
    },
    {
      "cell_type": "code",
      "execution_count": null,
      "id": "e485c2be",
      "metadata": {
        "id": "e485c2be"
      },
      "outputs": [],
      "source": [
        "dataset_filename = 'mouse_data.txt'\n",
        "weights_save_name = \"weights_lstm_mouse.hdf5\"\n",
        "CONTINUE_TRAINING_WHERE_YOU_LEFT_OFF=True\n",
        "timesteps = 16\n",
        "n_predictions = 128\n",
        "MAX_X,MAX_Y = 1024,1024"
      ]
    },
    {
      "cell_type": "markdown",
      "id": "4609e339",
      "metadata": {
        "id": "4609e339"
      },
      "source": [
        "### Global Variables\n",
        "Initialize the global variables that we will be using after"
      ]
    },
    {
      "cell_type": "code",
      "execution_count": null,
      "id": "f81d7924",
      "metadata": {
        "id": "f81d7924"
      },
      "outputs": [],
      "source": [
        "img = []\n",
        "dataset = []\n",
        "testing_dataset = []\n",
        "model = None\n",
        "model_generated = False\n",
        "state = 'idle'\n",
        "time_data = []"
      ]
    },
    {
      "cell_type": "markdown",
      "id": "22964ff7",
      "metadata": {
        "id": "22964ff7"
      },
      "source": [
        "### Saving and Loading the dataset from a file\n",
        "Just a function to save and load the dataset that we use"
      ]
    },
    {
      "cell_type": "code",
      "execution_count": null,
      "id": "7beb50d5",
      "metadata": {
        "id": "7beb50d5"
      },
      "outputs": [],
      "source": [
        "# Save and Load dataset from file\n",
        "def save_dataset():\n",
        "    with open(dataset_filename, \"wb\") as fp:\n",
        "        pickle.dump(dataset, fp)\n",
        "\n",
        "def load_dataset():\n",
        "    global dataset\n",
        "    with open(dataset_filename, \"rb\") as fp:\n",
        "        dataset = pickle.load(fp)"
      ]
    },
    {
      "cell_type": "markdown",
      "id": "587ff507",
      "metadata": {
        "id": "587ff507"
      },
      "source": [
        "### Normalize and de-normalize\n",
        "\n",
        "Normalize data_points in our dataset"
      ]
    },
    {
      "cell_type": "code",
      "execution_count": null,
      "id": "74aea018",
      "metadata": {
        "id": "74aea018"
      },
      "outputs": [],
      "source": [
        "def normalize(data_points,scale_down=True):\n",
        "    if(scale_down==True):\n",
        "        data_points[:] = [[float(data[0])/MAX_X, float(data[1])/MAX_Y] for data in data_points]\n",
        "    else:\n",
        "        data_points[:] = [[int(data[0]*MAX_X), int(data[1]*MAX_Y)] for data in data_points]"
      ]
    },
    {
      "cell_type": "markdown",
      "id": "64819fe7",
      "metadata": {
        "id": "64819fe7"
      },
      "source": [
        "### Mouse callback function\n",
        "\n",
        "This is the predictive model"
      ]
    },
    {
      "cell_type": "code",
      "execution_count": null,
      "id": "221e8fc7",
      "metadata": {
        "id": "221e8fc7"
      },
      "outputs": [],
      "source": [
        "def trace_mouse_movements(event,x,y,flags,param):\n",
        "    if event == cv2.EVENT_MOUSEMOVE:\n",
        "        if(state == 'record_data'):\n",
        "            cv2.circle(img,(x,y),2,(255,0,0),-1)\n",
        "            end = time.time()\n",
        "            dataset.append([x,y])\n",
        "            time_data.append(end-start)\n",
        "        elif(state == 'predict'):\n",
        "            img.fill(0)\n",
        "            testing_dataset.append([x,y])\n",
        "            for [_x,_y] in testing_dataset:\n",
        "                cv2.circle(img,(_x,_y),2,(0,127,255),-1)\n",
        "            if(len(testing_dataset)>timesteps):\n",
        "                testing_dataset.pop(0)\n",
        "                pred_dataset = [i for i in testing_dataset]\n",
        "                normalize(pred_dataset,scale_down=True)\n",
        "                for i in range(n_predictions):\n",
        "                    input_sequence = np.array([j for j in pred_dataset[i:i+timesteps]])\n",
        "                    input_sequence = np.reshape(input_sequence,(-1,2,input_sequence.shape[0]))\n",
        "                    _temp = model.predict(input_sequence)\n",
        "                    pred_dataset.append([_temp[0][0],_temp[0][1]])\n",
        "                normalize(pred_dataset,scale_down=False)\n",
        "                for [_x,_y] in pred_dataset[timesteps:]:\n",
        "                    cv2.circle(img,(_x,_y),2,(255,0,0),-1)\n",
        "        elif(state == 'idle'):\n",
        "            cv2.circle(img,(x,y),2,(int(np.random.randint(0,255)),int(np.random.randint(0,255)),int(np.random.randint(0,255))),-1)\n"
      ]
    },
    {
      "cell_type": "markdown",
      "id": "e3c3076e",
      "metadata": {
        "id": "e3c3076e"
      },
      "source": [
        "### Loading weight\n",
        "\n",
        "Loading the weight from file if the file already exist"
      ]
    },
    {
      "cell_type": "code",
      "execution_count": null,
      "id": "8b6955f2",
      "metadata": {
        "id": "8b6955f2"
      },
      "outputs": [],
      "source": [
        "def load_pretrained_weights():\n",
        "    model\n",
        "    try:\n",
        "        model.load_weights(weights_save_name)\n",
        "    except:\n",
        "        print('Pre-trained weights do not exist. Please train model to obtain weights')\n"
      ]
    },
    {
      "cell_type": "markdown",
      "id": "6f5cd000",
      "metadata": {
        "id": "6f5cd000"
      },
      "source": [
        "### Graph the model\n",
        "Here we are just using simple layers such as LSTM and hidden layers aswell"
      ]
    },
    {
      "cell_type": "code",
      "execution_count": null,
      "id": "9fa6b1d3",
      "metadata": {
        "id": "9fa6b1d3"
      },
      "outputs": [],
      "source": [
        "def generate_model(load_weights=False):\n",
        "    model = Sequential()\n",
        "    model.add(LSTM(64, return_sequences=False, input_shape=(2,timesteps)))\n",
        "    #model.add(LSTM(32, return_sequences=True))\n",
        "    #model.add(LSTM(32))\n",
        "    model.add(Dense(2, activation='relu'))\n",
        "    model.compile(loss='mse', optimizer='adam')\n",
        "    if(load_weights==True): load_pretrained_weights()\n",
        "    model_generated = True"
      ]
    },
    {
      "cell_type": "markdown",
      "id": "5c139d49",
      "metadata": {
        "id": "5c139d49"
      },
      "source": [
        "### Generator for data"
      ]
    },
    {
      "cell_type": "code",
      "execution_count": null,
      "id": "19146808",
      "metadata": {
        "id": "19146808"
      },
      "outputs": [],
      "source": [
        "def initialize_data_xy():\n",
        "    load_dataset()\n",
        "    normalize(dataset,scale_down=True)\n",
        "    xy_coord = [i for i in dataset]\n",
        "    n = len(xy_coord)-1\n",
        "    while(True):\n",
        "        i = np.random.randint(0,n)\n",
        "        try:\n",
        "            x_data = xy_coord[i:i+timesteps]\n",
        "            y_data = xy_coord[i+timesteps]\n",
        "            yield x_data, y_data\n",
        "        except:\n",
        "            pass"
      ]
    },
    {
      "cell_type": "markdown",
      "id": "b2479850",
      "metadata": {
        "id": "b2479850"
      },
      "source": [
        "### Fetch a dataset"
      ]
    },
    {
      "cell_type": "code",
      "execution_count": null,
      "id": "8f74d994",
      "metadata": {
        "id": "8f74d994"
      },
      "outputs": [],
      "source": [
        "def get_data_to_train(how_many):\n",
        "    data = initialize_data_xy()\n",
        "    input_data = []\n",
        "    output_data = []\n",
        "    for i in range(how_many):\n",
        "        _temp = data.next()\n",
        "        input_data.append(_temp[0])\n",
        "        output_data.append(_temp[1])\n",
        "    input_data = np.array(input_data)\n",
        "    output_data = np.array(output_data)\n",
        "    input_data = np.reshape(input_data,(input_data.shape[0],2,input_data.shape[1]))\n",
        "    return input_data,output_data\n"
      ]
    },
    {
      "cell_type": "markdown",
      "id": "85b9e633",
      "metadata": {
        "id": "85b9e633"
      },
      "source": [
        "### Training"
      ]
    },
    {
      "cell_type": "code",
      "execution_count": null,
      "id": "34c0d090",
      "metadata": {
        "id": "34c0d090"
      },
      "outputs": [],
      "source": [
        "# Training...\n",
        "def train(load_weights=False):\n",
        "    global model\n",
        "    x_train, y_train = get_data_to_train(1000)\n",
        "    if(model_generated==False):\n",
        "        generate_model(load_weights=load_weights)\n",
        "    elif(load_weights==True):\n",
        "        global model\n",
        "        model.load_weights(weights_save_name)\n",
        "    callbacks_list = [ModelCheckpoint(weights_save_name, monitor='loss', verbose=1, save_best_only=True, mode='auto', save_weights_only='True')]\n",
        "    model.fit(x_train, y_train, batch_size=1000, epochs=5000, verbose=2, callbacks=callbacks_list)\n"
      ]
    },
    {
      "cell_type": "markdown",
      "id": "81d359d3",
      "metadata": {
        "id": "81d359d3"
      },
      "source": [
        "### Helper function\n",
        "Some help to know which input you can use"
      ]
    },
    {
      "cell_type": "code",
      "execution_count": null,
      "id": "83114b25",
      "metadata": {
        "id": "83114b25"
      },
      "outputs": [],
      "source": [
        "# Helper function\n",
        "def print_help():\n",
        "    print('''Predict mouse movements using Long Short Term Memory(LSTM) Network\n",
        "    Usage:\n",
        "    Press \\'i\\' for idle mode (mouse points are plotted in different colours)\n",
        "    Press \\'r\\' to start recording data, press \\'r\\' again to save dataset (mouse points are plotted red)\n",
        "    Press \\'t\\' to start training using the dataset (mouse are not plotted)\n",
        "    Press \\'p\\' to predict mouse movements (actual movements are plotted orange, predictions are plotted blue)\n",
        "    Press \\'c\\' to clear screen\n",
        "    Press \\'h\\' to show this help script\n",
        "    Press \\'ESC\\' to quit\n",
        "    Notes:''')\n"
      ]
    },
    {
      "cell_type": "markdown",
      "id": "d080a07e",
      "metadata": {
        "id": "d080a07e"
      },
      "source": [
        "### Main function"
      ]
    },
    {
      "cell_type": "code",
      "execution_count": null,
      "id": "9e9ef9fc",
      "metadata": {
        "id": "9e9ef9fc",
        "outputId": "efe3a11d-d8c8-4745-e9dc-84b9da4fb42f"
      },
      "outputs": [
        {
          "name": "stdout",
          "output_type": "stream",
          "text": [
            "Predict mouse movements using Long Short Term Memory(LSTM) Network\n",
            "    Usage:\n",
            "    Press 'i' for idle mode (mouse points are plotted in different colours)\n",
            "    Press 'r' to start recording data, press 'r' again to save dataset (mouse points are plotted red)\n",
            "    Press 't' to start training using the dataset (mouse are not plotted)\n",
            "    Press 'p' to predict mouse movements (actual movements are plotted orange, predictions are plotted blue)\n",
            "    Press 'c' to clear screen\n",
            "    Press 'h' to show this help script\n",
            "    Press 'ESC' to quit\n",
            "    Notes:\n",
            "Started recording data\n",
            "Saved recorded data\n"
          ]
        }
      ],
      "source": [
        "img = np.zeros((MAX_X,MAX_Y,3), np.uint8)\n",
        "cv2.namedWindow('image')\n",
        "cv2.setMouseCallback('image',trace_mouse_movements)\n",
        "print_help()\n",
        "start = time.time()\n",
        "while(1):\n",
        "    cv2.imshow('image',img)\n",
        "    ip = cv2.waitKey(20) & 0xFF\n",
        "    if ip == 27:\n",
        "        break\n",
        "    elif(ip==ord('r')):\n",
        "        if(state != 'record_data'):\n",
        "            state = 'record_data'\n",
        "            print('Started recording data')\n",
        "        else:\n",
        "            save_dataset()\n",
        "            print('Saved recorded data')\n",
        "    elif(ip==ord('p')):\n",
        "        if(model_generated==True):\n",
        "            load_pretrained_weights()\n",
        "        else:\n",
        "            generate_model(load_weights=True)\n",
        "        testing_dataset = []\n",
        "        state = 'predict'\n",
        "    elif(ip==ord('t')):\n",
        "        state = 'train'\n",
        "        print('Training started')\n",
        "        train(load_weights=CONTINUE_TRAINING_WHERE_YOU_LEFT_OFF)\n",
        "        print('Training done')\n",
        "        state = 'idle'\n",
        "    elif(ip==ord('i')):\n",
        "        state = 'idle'\n",
        "    elif(ip==ord('c')):\n",
        "        img.fill(0)\n",
        "    elif(ip==ord('h')):\n",
        "        print_help()\n",
        "cv2.destroyAllWindows()"
      ]
    },
    {
      "cell_type": "code",
      "execution_count": null,
      "id": "53a92e3b",
      "metadata": {
        "id": "53a92e3b"
      },
      "outputs": [],
      "source": [
        "load_dataset()\n",
        "xy_coord = [i for i in dataset]\n",
        "header = ['time_stamp','x_coord','y_coord']\n",
        "with open('mouse_data.csv','w', encoding='UTF8') as f:\n",
        "    writer = csv.writer(f)\n",
        "\n",
        "    writer.writerow(header)\n",
        "\n",
        "    for i in range(len(xy_coord)-1):\n",
        "        writer.writerow([time_data[i],xy_coord[i][0],xy_coord[i][1]])\n"
      ]
    },
    {
      "cell_type": "code",
      "execution_count": null,
      "id": "c6ff447e",
      "metadata": {
        "id": "c6ff447e",
        "outputId": "b18869f6-2cc4-4853-ce80-e2cfa1f811e4"
      },
      "outputs": [
        {
          "data": {
            "text/html": [
              "<div>\n",
              "<style scoped>\n",
              "    .dataframe tbody tr th:only-of-type {\n",
              "        vertical-align: middle;\n",
              "    }\n",
              "\n",
              "    .dataframe tbody tr th {\n",
              "        vertical-align: top;\n",
              "    }\n",
              "\n",
              "    .dataframe thead th {\n",
              "        text-align: right;\n",
              "    }\n",
              "</style>\n",
              "<table border=\"1\" class=\"dataframe\">\n",
              "  <thead>\n",
              "    <tr style=\"text-align: right;\">\n",
              "      <th></th>\n",
              "      <th>time_stamp</th>\n",
              "      <th>x_coord</th>\n",
              "      <th>y_coord</th>\n",
              "    </tr>\n",
              "  </thead>\n",
              "  <tbody>\n",
              "    <tr>\n",
              "      <th>0</th>\n",
              "      <td>0.0</td>\n",
              "      <td>443</td>\n",
              "      <td>446</td>\n",
              "    </tr>\n",
              "    <tr>\n",
              "      <th>1</th>\n",
              "      <td>0.0</td>\n",
              "      <td>444</td>\n",
              "      <td>446</td>\n",
              "    </tr>\n",
              "    <tr>\n",
              "      <th>2</th>\n",
              "      <td>0.0</td>\n",
              "      <td>447</td>\n",
              "      <td>446</td>\n",
              "    </tr>\n",
              "    <tr>\n",
              "      <th>3</th>\n",
              "      <td>0.0</td>\n",
              "      <td>456</td>\n",
              "      <td>443</td>\n",
              "    </tr>\n",
              "    <tr>\n",
              "      <th>4</th>\n",
              "      <td>0.0</td>\n",
              "      <td>458</td>\n",
              "      <td>441</td>\n",
              "    </tr>\n",
              "  </tbody>\n",
              "</table>\n",
              "</div>"
            ],
            "text/plain": [
              "   time_stamp  x_coord  y_coord\n",
              "0         0.0      443      446\n",
              "1         0.0      444      446\n",
              "2         0.0      447      446\n",
              "3         0.0      456      443\n",
              "4         0.0      458      441"
            ]
          },
          "execution_count": 67,
          "metadata": {},
          "output_type": "execute_result"
        }
      ],
      "source": [
        "df = pd.read_csv(\"mouse_data.csv\")\n",
        "df.head()"
      ]
    }
  ],
  "metadata": {
    "interpreter": {
      "hash": "5179d32cf6ec497baf3f8a3ef987cc77c5d2dc691fdde20a56316522f61a7323"
    },
    "kernelspec": {
      "display_name": "Python 3.8.8 ('base')",
      "language": "python",
      "name": "python3"
    },
    "language_info": {
      "codemirror_mode": {
        "name": "ipython",
        "version": 3
      },
      "file_extension": ".py",
      "mimetype": "text/x-python",
      "name": "python",
      "nbconvert_exporter": "python",
      "pygments_lexer": "ipython3",
      "version": "3.8.8"
    },
    "colab": {
      "name": "LSTM_Mouse_prediction.ipynb",
      "provenance": [],
      "include_colab_link": true
    }
  },
  "nbformat": 4,
  "nbformat_minor": 5
}